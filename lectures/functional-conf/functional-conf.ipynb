{
 "cells": [
  {
   "cell_type": "markdown",
   "metadata": {
    "slideshow": {
     "slide_type": "slide"
    }
   },
   "source": [
    "<center>\n",
    "\n",
    "<h1 style=\"text-align:center\"> GADTs in OCaml </h1>\n",
    "<h2 style=\"text-align:center\"> Functional Conf, Bangalore, India</h2>\n",
    "<h2 style=\"text-align:center\"> Anmol Sahoo, IIT Madras</h2>\n",
    "</center>"
   ]
  },
  {
   "cell_type": "markdown",
   "metadata": {
    "slideshow": {
     "slide_type": "slide"
    }
   },
   "source": [
    "## About Me\n",
    "* Project associate at IIT Madras\n",
    "* Working on the OCaml compiler\n",
    "* Guided by [KC Sivaramakrishanan](kcsrk.info) (All slides thanks to him as well!)"
   ]
  },
  {
   "cell_type": "markdown",
   "metadata": {
    "slideshow": {
     "slide_type": "slide"
    }
   },
   "source": [
    "## Multicore OCaml at IIT Madras\n",
    "* Working on upstreaming the multicore compiler for OCaml\n",
    "* Lots of work on the compiler as well as application libraries\n",
    "* Good mix of theoretical and practical work\n",
    "\n",
    "## We are hiring - [Hiring Page](http://kcsrk.info/ocaml/multicore/job/2019/09/16/1115-multicore-job/)"
   ]
  },
  {
   "cell_type": "markdown",
   "metadata": {
    "slideshow": {
     "slide_type": "slide"
    }
   },
   "source": [
    "### Agenda\n",
    "* Introduction to OCaml syntax - let bindings, functions and pattern matching\n",
    "* Algebraic Datatypes in OCaml\n",
    "* _Generalized_ Algebraic Datatypes (GADTs)"
   ]
  },
  {
   "cell_type": "markdown",
   "metadata": {
    "slideshow": {
     "slide_type": "slide"
    }
   },
   "source": [
    "### But first, Why GADTs?\n",
    "* Type safety - Not **just** the typed interpreter, practical examples\n",
    "    + [Safely typed GraphQL in OCaml](https://andreas.github.io/2017/11/29/type-safe-graphql-with-ocaml-part-1/)\n",
    "* Performance\n",
    "    + [Why GADTs matter for performance](https://blog.janestreet.com/why-gadts-matter-for-performance/)\n",
    "* Generic programming\n",
    "    + [Generic Programming in OCaml](https://arxiv.org/pdf/1812.11665.pdf)"
   ]
  },
  {
   "cell_type": "markdown",
   "metadata": {
    "slideshow": {
     "slide_type": "slide"
    }
   },
   "source": [
    "<center>\n",
    "\n",
    "<h1 style=\"text-align:center\"> Syntax Primer </h1>\n",
    "</center>"
   ]
  },
  {
   "cell_type": "markdown",
   "metadata": {
    "slideshow": {
     "slide_type": "slide"
    }
   },
   "source": [
    "## Values in OCaml"
   ]
  },
  {
   "cell_type": "code",
   "execution_count": null,
   "metadata": {
    "slideshow": {
     "slide_type": "-"
    }
   },
   "outputs": [],
   "source": [
    "42"
   ]
  },
  {
   "cell_type": "code",
   "execution_count": null,
   "metadata": {},
   "outputs": [],
   "source": [
    "\"Hello\""
   ]
  },
  {
   "cell_type": "code",
   "execution_count": null,
   "metadata": {},
   "outputs": [],
   "source": [
    "3.1415"
   ]
  },
  {
   "cell_type": "markdown",
   "metadata": {
    "slideshow": {
     "slide_type": "fragment"
    }
   },
   "source": [
    "* Observe that the values have \n",
    "  + static semantics: types `int`, `string`, `float`.\n",
    "  + dynamic semantics: the value itself."
   ]
  },
  {
   "cell_type": "markdown",
   "metadata": {
    "slideshow": {
     "slide_type": "slide"
    }
   },
   "source": [
    "## Type Inference and annotation\n",
    "\n",
    "* OCaml compiler **infers** types\n",
    "  + Compilation fails with type error if it can't\n",
    "  + Hard part of language design: guaranteeing compiler can infer types when program is correctly written\n",
    "* You can manually annotate types anywhere – Replace `e` with `(e : t)`\n",
    "  + Useful for resolving type errors\n"
   ]
  },
  {
   "cell_type": "code",
   "execution_count": null,
   "metadata": {
    "slideshow": {
     "slide_type": "fragment"
    }
   },
   "outputs": [],
   "source": [
    "(42.4 : float)"
   ]
  },
  {
   "cell_type": "markdown",
   "metadata": {
    "slideshow": {
     "slide_type": "slide"
    }
   },
   "source": [
    "## More values\n",
    "\n",
    "OCaml also support other values. See [manual](https://caml.inria.fr/pub/docs/manual-ocaml/values.html)."
   ]
  },
  {
   "cell_type": "code",
   "execution_count": null,
   "metadata": {},
   "outputs": [],
   "source": [
    "()"
   ]
  },
  {
   "cell_type": "code",
   "execution_count": null,
   "metadata": {},
   "outputs": [],
   "source": [
    "(1,\"hello\", true, 3.4)"
   ]
  },
  {
   "cell_type": "code",
   "execution_count": null,
   "metadata": {},
   "outputs": [],
   "source": [
    "[1;2;3]"
   ]
  },
  {
   "cell_type": "code",
   "execution_count": null,
   "metadata": {},
   "outputs": [],
   "source": [
    "[|1;2;3|]"
   ]
  },
  {
   "cell_type": "markdown",
   "metadata": {
    "slideshow": {
     "slide_type": "slide"
    }
   },
   "source": [
    "## Static vs Dynamic distinction\n",
    "\n",
    "Static typing helps catch lots errors at compile time.\n",
    "\n",
    "Which of these is static error?"
   ]
  },
  {
   "cell_type": "code",
   "execution_count": null,
   "metadata": {
    "scrolled": true
   },
   "outputs": [],
   "source": [
    "23 = 45.0"
   ]
  },
  {
   "cell_type": "code",
   "execution_count": null,
   "metadata": {},
   "outputs": [],
   "source": [
    "23 = 45"
   ]
  },
  {
   "cell_type": "markdown",
   "metadata": {
    "slideshow": {
     "slide_type": "slide"
    }
   },
   "source": [
    "## If expression\n",
    "\n",
    "```ocaml\n",
    "if e1 then e2 else e3\n",
    "```\n",
    "\n",
    "* **Static Semantics:** If `e1` has type `bool`, and `e2` has type `t2` and `e3` has type `t2` then `if e1 then e2 else e3` has type `t2`.\n",
    "* **Dynamic Semantics:** If `e1` evaluates to true, then evaluate `e2`, else evaluate `e3`"
   ]
  },
  {
   "cell_type": "code",
   "execution_count": null,
   "metadata": {
    "slideshow": {
     "slide_type": "slide"
    }
   },
   "outputs": [],
   "source": [
    "if 32 = 31 then \"Hello\" else \"World\""
   ]
  },
  {
   "cell_type": "code",
   "execution_count": null,
   "metadata": {},
   "outputs": [],
   "source": [
    "if true then 13 else 13.4"
   ]
  },
  {
   "cell_type": "markdown",
   "metadata": {
    "slideshow": {
     "slide_type": "slide"
    }
   },
   "source": [
    "## Let expression\n",
    "\n",
    "```ocaml\n",
    "let x = e1 in e2\n",
    "```\n",
    "\n",
    "* `x` is an identifier\n",
    "* `e1` is the binding expression\n",
    "* `e2` is the body expression\n",
    "* `let x = e1 in e2` is itself an expression"
   ]
  },
  {
   "cell_type": "code",
   "execution_count": null,
   "metadata": {
    "slideshow": {
     "slide_type": "slide"
    }
   },
   "outputs": [],
   "source": [
    "let x = 5 in x + 5"
   ]
  },
  {
   "cell_type": "code",
   "execution_count": null,
   "metadata": {
    "slideshow": {
     "slide_type": "slide"
    }
   },
   "outputs": [],
   "source": [
    "let x = 5 in\n",
    "let y = 10 in \n",
    "x + y"
   ]
  },
  {
   "cell_type": "code",
   "execution_count": null,
   "metadata": {
    "slideshow": {
     "slide_type": "slide"
    }
   },
   "outputs": [],
   "source": [
    "let x = 5 in\n",
    "let x = 10 in\n",
    "x"
   ]
  },
  {
   "cell_type": "markdown",
   "metadata": {
    "slideshow": {
     "slide_type": "slide"
    }
   },
   "source": [
    "## Scopes & shadowing\n",
    "\n",
    "```ocaml\n",
    "let x = 5 in \n",
    "let x = 10 in\n",
    "x\n",
    "```\n",
    "\n",
    "is parsed as\n",
    "\n",
    "```ocaml\n",
    "let x = 5 in\n",
    "(let x = 10 in\n",
    " x)\n",
    "```\n",
    "\n",
    "* Importantly, `x` is not mutated; there are two `x`s in different **scopes**.\n",
    "* Inner definitions **shadow** the outer definitions. "
   ]
  },
  {
   "cell_type": "code",
   "execution_count": null,
   "metadata": {
    "slideshow": {
     "slide_type": "slide"
    }
   },
   "outputs": [],
   "source": [
    "let x = 5 in\n",
    "let y = \n",
    "  let x = 10 in\n",
    "  x\n",
    "in\n",
    "x+y"
   ]
  },
  {
   "cell_type": "markdown",
   "metadata": {
    "slideshow": {
     "slide_type": "slide"
    }
   },
   "source": [
    "## Functions"
   ]
  },
  {
   "cell_type": "code",
   "execution_count": null,
   "metadata": {
    "slideshow": {
     "slide_type": "-"
    }
   },
   "outputs": [],
   "source": [
    "fun x -> x + 1"
   ]
  },
  {
   "cell_type": "markdown",
   "metadata": {
    "slideshow": {
     "slide_type": "fragment"
    }
   },
   "source": [
    "The function type `int -> int` says that it takes one argument of type `int` and returns a value of type `int`."
   ]
  },
  {
   "cell_type": "markdown",
   "metadata": {
    "slideshow": {
     "slide_type": "slide"
    }
   },
   "source": [
    "### Function scope\n",
    "The function body can refer to any variables in scope. "
   ]
  },
  {
   "cell_type": "code",
   "execution_count": null,
   "metadata": {
    "slideshow": {
     "slide_type": "-"
    }
   },
   "outputs": [],
   "source": [
    "let foo = \n",
    "  let y = 10 in\n",
    "  let x = 5 in\n",
    "  fun z -> x + y + z"
   ]
  },
  {
   "cell_type": "markdown",
   "metadata": {
    "slideshow": {
     "slide_type": "slide"
    }
   },
   "source": [
    "## Functions are values\n",
    "\n",
    "Can use them *anywhere* we can use values:\n",
    "\n",
    "* Functions can **take** functions as arguments\n",
    "* Functions can **return** functions as arguments\n",
    "\n",
    "As you will see, this is an incredibly powerful language feature. "
   ]
  },
  {
   "cell_type": "markdown",
   "metadata": {
    "slideshow": {
     "slide_type": "slide"
    }
   },
   "source": [
    "## Function application\n",
    "\n",
    "The syntax is \n",
    "\n",
    "```ocaml\n",
    "e0 e1 ... en\n",
    "```\n",
    "* No parentheses necessary"
   ]
  },
  {
   "cell_type": "markdown",
   "metadata": {
    "slideshow": {
     "slide_type": "slide"
    }
   },
   "source": [
    "## Function Application Evaluation\n",
    "\n",
    "```ocaml\n",
    "e0 e1 ... en\n",
    "```\n",
    "\n",
    "* Evaluate `e0 ... en` to values `v0 ... vn`\n",
    "* Type checking will ensure that `v0` is a function `fun x1 ... xn -> e`\n",
    "* Substitute `vi` for `xi` in `e` yielding new expression `e'`\n",
    "* Evaluate `e'` to a value `v`, which is result"
   ]
  },
  {
   "cell_type": "markdown",
   "metadata": {
    "slideshow": {
     "slide_type": "slide"
    }
   },
   "source": [
    "## Function Application"
   ]
  },
  {
   "cell_type": "code",
   "execution_count": null,
   "metadata": {
    "slideshow": {
     "slide_type": "-"
    }
   },
   "outputs": [],
   "source": [
    "(fun x -> x + 1) 1"
   ]
  },
  {
   "cell_type": "code",
   "execution_count": null,
   "metadata": {},
   "outputs": [],
   "source": [
    "(fun x y z -> x + y + z) 1 2 3"
   ]
  },
  {
   "cell_type": "markdown",
   "metadata": {
    "slideshow": {
     "slide_type": "fragment"
    }
   },
   "source": [
    "The above function is syntactic sugar for"
   ]
  },
  {
   "cell_type": "code",
   "execution_count": null,
   "metadata": {},
   "outputs": [],
   "source": [
    "(fun x -> fun y -> fun z -> x + y + z) 1 2 3"
   ]
  },
  {
   "cell_type": "markdown",
   "metadata": {
    "slideshow": {
     "slide_type": "fragment"
    }
   },
   "source": [
    "Multi-argument functions do not exist!"
   ]
  },
  {
   "cell_type": "markdown",
   "metadata": {
    "slideshow": {
     "slide_type": "slide"
    }
   },
   "source": [
    "## Function definition\n",
    "\n",
    "We can name functions using `let`.\n",
    "\n",
    "```ocaml\n",
    "let succ = fun x -> x + 1\n",
    "```\n",
    "\n",
    "which is semantically equivalent to\n",
    "\n",
    "```ocaml\n",
    "let succ x = x + 1\n",
    "```\n",
    "\n",
    "You'll see the latter form more often."
   ]
  },
  {
   "cell_type": "markdown",
   "metadata": {
    "slideshow": {
     "slide_type": "slide"
    }
   },
   "source": [
    "## Function definition"
   ]
  },
  {
   "cell_type": "code",
   "execution_count": null,
   "metadata": {},
   "outputs": [],
   "source": [
    "let succ x = x + 1"
   ]
  },
  {
   "cell_type": "code",
   "execution_count": null,
   "metadata": {},
   "outputs": [],
   "source": [
    "succ 10"
   ]
  },
  {
   "cell_type": "markdown",
   "metadata": {
    "slideshow": {
     "slide_type": "slide"
    }
   },
   "source": [
    "## Function definition"
   ]
  },
  {
   "cell_type": "code",
   "execution_count": null,
   "metadata": {
    "slideshow": {
     "slide_type": "-"
    }
   },
   "outputs": [],
   "source": [
    "let add x y = x + y"
   ]
  },
  {
   "cell_type": "code",
   "execution_count": null,
   "metadata": {},
   "outputs": [],
   "source": [
    "let add = fun x -> fun y -> x + y"
   ]
  },
  {
   "cell_type": "code",
   "execution_count": null,
   "metadata": {},
   "outputs": [],
   "source": [
    "add 5 10"
   ]
  },
  {
   "cell_type": "markdown",
   "metadata": {
    "slideshow": {
     "slide_type": "slide"
    }
   },
   "source": [
    "## Partial Application\n",
    "\n",
    "```ocaml\n",
    "(fun x y z -> x + y + z) 1\n",
    "```\n",
    "\n",
    "returns a function \n",
    "\n",
    "```ocaml\n",
    "(fun y z -> 1 + y + z)\n",
    "```"
   ]
  },
  {
   "cell_type": "code",
   "execution_count": null,
   "metadata": {},
   "outputs": [],
   "source": [
    "let foo = (fun x y z -> x + y + z) 1"
   ]
  },
  {
   "cell_type": "code",
   "execution_count": null,
   "metadata": {},
   "outputs": [],
   "source": [
    "foo 2 3"
   ]
  },
  {
   "cell_type": "markdown",
   "metadata": {
    "slideshow": {
     "slide_type": "slide"
    }
   },
   "source": [
    "## Partial Application\n",
    "\n",
    "A more useful partial application example is defining `succ` and `pred` functions from `add`."
   ]
  },
  {
   "cell_type": "code",
   "execution_count": null,
   "metadata": {},
   "outputs": [],
   "source": [
    "let succ = add 1\n",
    "let pred = add (-1)"
   ]
  },
  {
   "cell_type": "code",
   "execution_count": null,
   "metadata": {},
   "outputs": [],
   "source": [
    "succ 10"
   ]
  },
  {
   "cell_type": "code",
   "execution_count": null,
   "metadata": {},
   "outputs": [],
   "source": [
    "pred 10"
   ]
  },
  {
   "cell_type": "markdown",
   "metadata": {
    "slideshow": {
     "slide_type": "slide"
    }
   },
   "source": [
    "## Recursive Functions\n",
    "\n",
    "Recursive functions can call themselves. The syntax for recursive function definition is:\n",
    "\n",
    "```ocaml\n",
    "let rec foo x = ...\n",
    "```\n",
    "\n",
    "Notice the `rec` key word."
   ]
  },
  {
   "cell_type": "markdown",
   "metadata": {
    "slideshow": {
     "slide_type": "slide"
    }
   },
   "source": [
    "## Recursive Functions"
   ]
  },
  {
   "cell_type": "code",
   "execution_count": null,
   "metadata": {
    "slideshow": {
     "slide_type": "-"
    }
   },
   "outputs": [],
   "source": [
    "let rec sum_of_first_n n = \n",
    "  if n <= 0 then 0\n",
    "  else n + sum_of_first_n (n-1)"
   ]
  },
  {
   "cell_type": "code",
   "execution_count": null,
   "metadata": {},
   "outputs": [],
   "source": [
    "sum_of_first_n 5"
   ]
  },
  {
   "cell_type": "markdown",
   "metadata": {
    "slideshow": {
     "slide_type": "slide"
    }
   },
   "source": [
    "## Mutually recursive functions"
   ]
  },
  {
   "cell_type": "code",
   "execution_count": null,
   "metadata": {},
   "outputs": [],
   "source": [
    "let rec even n =\n",
    "  if n = 0 then true\n",
    "  else odd (n-1)\n",
    "  \n",
    "and odd n = \n",
    "  if n = 0 then false \n",
    "  else even (n-1)"
   ]
  },
  {
   "cell_type": "code",
   "execution_count": null,
   "metadata": {},
   "outputs": [],
   "source": [
    "odd 44"
   ]
  },
  {
   "cell_type": "markdown",
   "metadata": {
    "slideshow": {
     "slide_type": "slide"
    }
   },
   "source": [
    "<center>\n",
    "\n",
    "<h1 style=\"text-align:center\"> Data Types</h1>\n",
    "</center>"
   ]
  },
  {
   "cell_type": "markdown",
   "metadata": {
    "slideshow": {
     "slide_type": "slide"
    }
   },
   "source": [
    "## Type aliases\n",
    "\n",
    "OCaml support the definition of aliases for existing types. For example,"
   ]
  },
  {
   "cell_type": "code",
   "execution_count": null,
   "metadata": {},
   "outputs": [],
   "source": [
    "type int_float_pair = int * float"
   ]
  },
  {
   "cell_type": "code",
   "execution_count": null,
   "metadata": {
    "slideshow": {
     "slide_type": "fragment"
    }
   },
   "outputs": [],
   "source": [
    "let x = (10, 3.14)"
   ]
  },
  {
   "cell_type": "code",
   "execution_count": null,
   "metadata": {
    "slideshow": {
     "slide_type": "-"
    }
   },
   "outputs": [],
   "source": [
    "let y : int_float_pair = x"
   ]
  },
  {
   "cell_type": "markdown",
   "metadata": {
    "slideshow": {
     "slide_type": "slide"
    }
   },
   "source": [
    "## Records\n",
    "\n",
    "* Records in OCaml represent a collection of named elements. \n",
    "* A simple example is a point record containing x, y and z fields:"
   ]
  },
  {
   "cell_type": "code",
   "execution_count": null,
   "metadata": {},
   "outputs": [],
   "source": [
    "type point = {\n",
    "  x : int;\n",
    "  y : int;\n",
    "  z : int;\n",
    "}"
   ]
  },
  {
   "cell_type": "markdown",
   "metadata": {
    "slideshow": {
     "slide_type": "slide"
    }
   },
   "source": [
    "## Records: Creation and access\n",
    "\n",
    "We can create instances of our point type using `{ ... }`, and access the elements of a point using the `.` operator:"
   ]
  },
  {
   "cell_type": "code",
   "execution_count": null,
   "metadata": {
    "slideshow": {
     "slide_type": "fragment"
    }
   },
   "outputs": [],
   "source": [
    "let origin = { y = 0; x = 0;z = 0 }\n",
    "\n",
    "let get_y (r : point) = r.y"
   ]
  },
  {
   "cell_type": "markdown",
   "metadata": {
    "slideshow": {
     "slide_type": "slide"
    }
   },
   "source": [
    "## Product Types\n",
    "\n",
    "* Records and tuples are known as **product types**. \n",
    "  + Each value of a product type includes all of the types that constitute the product. \n",
    "  \n",
    "```ocaml\n",
    "type person_r = {name: string; age: int; height: float}\n",
    "type person_t = string * int * float\n",
    "```\n",
    "\n",
    "* Records are indexed by *names* whereas *tuples* are indexed by positions (1st, 2nd, etc.)."
   ]
  },
  {
   "cell_type": "markdown",
   "metadata": {
    "slideshow": {
     "slide_type": "slide"
    }
   },
   "source": [
    "## Sum Types a.k.a Variants"
   ]
  },
  {
   "cell_type": "markdown",
   "metadata": {
    "slideshow": {
     "slide_type": "-"
    }
   },
   "source": [
    "The type definition syntax is:\n",
    "\n",
    "```ocaml\n",
    "type t = \n",
    "| C1 of t1\n",
    "| C2 of t2\n",
    "| C3 of t2\n",
    "| ...\n",
    "```\n",
    "\n",
    "* C1, C2, C2 are known as constructors\n",
    "* t1, t2 and t3 are optional data carried by constructor\n",
    "* Also known as **Algebraic Data Types**"
   ]
  },
  {
   "cell_type": "code",
   "execution_count": null,
   "metadata": {
    "slideshow": {
     "slide_type": "slide"
    }
   },
   "outputs": [],
   "source": [
    "type color = \n",
    "  | Red\n",
    "  | Green\n",
    "  | Blue"
   ]
  },
  {
   "cell_type": "code",
   "execution_count": null,
   "metadata": {},
   "outputs": [],
   "source": [
    "let v = (Green , Red)"
   ]
  },
  {
   "cell_type": "code",
   "execution_count": null,
   "metadata": {
    "slideshow": {
     "slide_type": "slide"
    }
   },
   "outputs": [],
   "source": [
    "type point = {x : int; y : int}\n",
    "\n",
    "type shape = \n",
    "  | Circle of point * float (* center, radius *)\n",
    "  | Rect of point * point   (* lower-left, upper-right *)\n",
    "  | ColorPoint of point * color"
   ]
  },
  {
   "cell_type": "code",
   "execution_count": null,
   "metadata": {},
   "outputs": [],
   "source": [
    "Circle ({x=4;y=3}, 2.5)"
   ]
  },
  {
   "cell_type": "code",
   "execution_count": null,
   "metadata": {},
   "outputs": [],
   "source": [
    "Rect ({x=3;y=4}, {x=7;y=9})"
   ]
  },
  {
   "cell_type": "markdown",
   "metadata": {
    "slideshow": {
     "slide_type": "slide"
    }
   },
   "source": [
    "## Recursive variant types\n",
    "\n",
    "Let's define an integer list"
   ]
  },
  {
   "cell_type": "code",
   "execution_count": null,
   "metadata": {},
   "outputs": [],
   "source": [
    "type intlist = \n",
    "  | INil\n",
    "  | ICons of int * intlist"
   ]
  },
  {
   "cell_type": "code",
   "execution_count": null,
   "metadata": {},
   "outputs": [],
   "source": [
    "ICons (1, ICons (2, ICons (3, INil)))"
   ]
  },
  {
   "cell_type": "markdown",
   "metadata": {
    "slideshow": {
     "slide_type": "fragment"
    }
   },
   "source": [
    "* `Nil` and `Cons` originate from Lisp."
   ]
  },
  {
   "cell_type": "markdown",
   "metadata": {
    "slideshow": {
     "slide_type": "slide"
    }
   },
   "source": [
    "## String List\n",
    "\n",
    "```ocaml\n",
    "type stringlist =\n",
    "  | SNil\n",
    "  | Scons of string * stringlist\n",
    "```"
   ]
  },
  {
   "cell_type": "markdown",
   "metadata": {
    "slideshow": {
     "slide_type": "fragment"
    }
   },
   "source": [
    "* Now what about `pointlist`, `shapelist`, etc?"
   ]
  },
  {
   "cell_type": "markdown",
   "metadata": {
    "slideshow": {
     "slide_type": "slide"
    }
   },
   "source": [
    "## Parameterized Variants"
   ]
  },
  {
   "cell_type": "code",
   "execution_count": null,
   "metadata": {},
   "outputs": [],
   "source": [
    "type 'a lst = \n",
    "    Nil\n",
    "  | Cons of 'a * 'a lst"
   ]
  },
  {
   "cell_type": "code",
   "execution_count": null,
   "metadata": {
    "slideshow": {
     "slide_type": "fragment"
    }
   },
   "outputs": [],
   "source": [
    "Cons (1, Cons (2, Nil))"
   ]
  },
  {
   "cell_type": "code",
   "execution_count": null,
   "metadata": {
    "slideshow": {
     "slide_type": "fragment"
    }
   },
   "outputs": [],
   "source": [
    "Cons (\"Hello\", Cons(\"World\", Nil))"
   ]
  },
  {
   "cell_type": "markdown",
   "metadata": {
    "slideshow": {
     "slide_type": "slide"
    }
   },
   "source": [
    "## Type Variable\n",
    "\n",
    "* **Variable**: name standing for an unknown value\n",
    "* **Type Variable**: name standing for an unknown type"
   ]
  },
  {
   "cell_type": "markdown",
   "metadata": {
    "slideshow": {
     "slide_type": "fragment"
    }
   },
   "source": [
    "* Java example is `List<T>`"
   ]
  },
  {
   "cell_type": "markdown",
   "metadata": {
    "slideshow": {
     "slide_type": "fragment"
    }
   },
   "source": [
    "* OCaml syntax for type variable is a single quote followed by an identifier\n",
    "  + '`foo`, `'key`, '`value`\n",
    "* Most often just `'a`, `'b`. \n",
    "  + Pronounced \"alpha\", \"beta\" or \"quote a\", \"quote b\"."
   ]
  },
  {
   "cell_type": "markdown",
   "metadata": {
    "slideshow": {
     "slide_type": "slide"
    }
   },
   "source": [
    "## Polymorphism\n",
    "\n",
    "* The type `'a lst` that we had defined earlier is a **polymorphic data type**.\n",
    "* poly = many, morph = change. \n",
    "* write functionality that works for many data types.\n",
    "* Related to Java Generics and C++ template instantiation.\n",
    "* In `'a lst`, `lst` is known as a **type constructor**.\n",
    "  + constructs types such as `int lst`, `string lst`, `shape lst`, etc."
   ]
  },
  {
   "cell_type": "markdown",
   "metadata": {
    "slideshow": {
     "slide_type": "slide"
    }
   },
   "source": [
    "## OCaml built-in lists are just variants\n",
    "\n",
    "OCaml effectively codes up lists as variants:\n",
    "\n",
    "\n",
    "```ocaml\n",
    "type 'a list = [] | :: of 'a * 'a list\n",
    "```\n",
    "\n",
    "* `[]` and `::` are constuctors. \n",
    "* Just a bit of syntactic magic to use `[]` and `::` as constructors rather than alphanumeric identifiers."
   ]
  },
  {
   "cell_type": "code",
   "execution_count": null,
   "metadata": {
    "slideshow": {
     "slide_type": "fragment"
    }
   },
   "outputs": [],
   "source": [
    "[]"
   ]
  },
  {
   "cell_type": "code",
   "execution_count": null,
   "metadata": {},
   "outputs": [],
   "source": [
    "1::2::[]"
   ]
  },
  {
   "cell_type": "markdown",
   "metadata": {
    "slideshow": {
     "slide_type": "slide"
    }
   },
   "source": [
    "<center>\n",
    "\n",
    "<h1 style=\"text-align:center\"> Pattern Matching </h1>\n",
    "</center>"
   ]
  },
  {
   "cell_type": "markdown",
   "metadata": {
    "slideshow": {
     "slide_type": "slide"
    }
   },
   "source": [
    "## Pattern Matching\n",
    "\n",
    "* Pattern matching is data deconstruction\n",
    "  + Match on the *shape* of data\n",
    "  + Extract part(s) of data\n",
    "  \n",
    "### Syntax\n",
    "\n",
    "```ocaml\n",
    "match e with\n",
    "| p1 -> e1\n",
    "| p2 -> e2\n",
    "...\n",
    "| pn -> en\n",
    "```\n",
    "\n",
    "* p1 ... pn are patterns."
   ]
  },
  {
   "cell_type": "markdown",
   "metadata": {
    "slideshow": {
     "slide_type": "slide"
    }
   },
   "source": [
    "## Pattern Matching on Lists\n",
    "\n",
    "```\n",
    "type 'a list = [] | :: of 'a * 'a list\n",
    "```\n",
    "\n",
    "* For lists, the patterns allowed follow from the constructors\n",
    "  + The pattern `[]` matches the value `[]`.\n",
    "  + The patterh `h::t`\n",
    "    - matches `2::[]`, binding `h` to `2` and `t` to `[]`.\n",
    "    - matches `2::3::[]`, binding `h` to `2` and `t` to `3::[]`.\n",
    "  + The pattern `_` is a **wildcard pattern** and matches anything. "
   ]
  },
  {
   "cell_type": "code",
   "execution_count": null,
   "metadata": {
    "slideshow": {
     "slide_type": "slide"
    }
   },
   "outputs": [],
   "source": [
    "let list_status l =\n",
    "  match l with\n",
    "  | [] -> print_endline \"The list is empty\"\n",
    "  | h::t -> Printf.printf \"The list is non-empty. Head = %d\\n%!\" h"
   ]
  },
  {
   "cell_type": "code",
   "execution_count": null,
   "metadata": {
    "slideshow": {
     "slide_type": "fragment"
    }
   },
   "outputs": [],
   "source": [
    "list_status []"
   ]
  },
  {
   "cell_type": "code",
   "execution_count": null,
   "metadata": {
    "slideshow": {
     "slide_type": "fragment"
    }
   },
   "outputs": [],
   "source": [
    "list_status [1;2;3]"
   ]
  },
  {
   "cell_type": "code",
   "execution_count": null,
   "metadata": {
    "slideshow": {
     "slide_type": "fragment"
    }
   },
   "outputs": [],
   "source": [
    "list_status (2::[3;4])"
   ]
  },
  {
   "cell_type": "markdown",
   "metadata": {
    "slideshow": {
     "slide_type": "slide"
    }
   },
   "source": [
    "## Advantages of pattern matching\n",
    "\n",
    "1. You cannot forget to match a case (Exhaustivity warning)"
   ]
  },
  {
   "cell_type": "code",
   "execution_count": null,
   "metadata": {
    "slideshow": {
     "slide_type": "fragment"
    }
   },
   "outputs": [],
   "source": [
    "let list_status l = \n",
    "  match l with \n",
    "  | [] -> print_endline \"The list is empty\"\n",
    "  | h1::h2::t -> Printf.printf \"The list is non-empty. 2nd element = %d\\n%!\" h2"
   ]
  },
  {
   "cell_type": "markdown",
   "metadata": {
    "slideshow": {
     "slide_type": "slide"
    }
   },
   "source": [
    "## Advantages of pattern matching\n",
    "\n",
    "1. You cannot forget to match a case (Exhaustivity warning)\n",
    "2. You cannot duplicate a case (Unused case warning)"
   ]
  },
  {
   "cell_type": "code",
   "execution_count": null,
   "metadata": {
    "slideshow": {
     "slide_type": "fragment"
    }
   },
   "outputs": [],
   "source": [
    "let list_status l = \n",
    "  match l with \n",
    "  | [] -> print_endline \"The list is empty\"\n",
    "  | h::t -> Printf.printf \"The list is non-empty. Head = %d\\n%!\" h\n",
    "  | h1::h2::t -> Printf.printf \"The list is non-empty. 2nd element = %d\\n%!\" h2"
   ]
  },
  {
   "cell_type": "markdown",
   "metadata": {
    "slideshow": {
     "slide_type": "slide"
    }
   },
   "source": [
    "## Length of list (tail recursive)"
   ]
  },
  {
   "cell_type": "code",
   "execution_count": null,
   "metadata": {
    "slideshow": {
     "slide_type": "-"
    }
   },
   "outputs": [],
   "source": [
    "let rec length' l acc =\n",
    "  match l with\n",
    "  | [] -> acc\n",
    "  | h::t -> length' t (1+acc)\n",
    "  \n",
    "let length l = length' l 0"
   ]
  },
  {
   "cell_type": "code",
   "execution_count": null,
   "metadata": {},
   "outputs": [],
   "source": [
    "length [1;2;3;4]"
   ]
  },
  {
   "cell_type": "markdown",
   "metadata": {
    "slideshow": {
     "slide_type": "slide"
    }
   },
   "source": [
    "## Match ordering\n",
    "\n",
    "The patterns are matched in the order that they are written down."
   ]
  },
  {
   "cell_type": "code",
   "execution_count": null,
   "metadata": {},
   "outputs": [],
   "source": [
    "let is_empty l =\n",
    "  match l with\n",
    "  | _ -> false\n",
    "  | [] -> true\n"
   ]
  },
  {
   "cell_type": "markdown",
   "metadata": {
    "slideshow": {
     "slide_type": "slide"
    }
   },
   "source": [
    "## nth \n",
    "\n",
    "Implement indexing into the list"
   ]
  },
  {
   "cell_type": "code",
   "execution_count": null,
   "metadata": {},
   "outputs": [],
   "source": [
    "let rec nth l n = \n",
    "  match (l, n) with\n",
    "  | (hd::_, 0) -> Some hd\n",
    "  | (hd::tl, n) -> nth tl (n-1)\n",
    "  | _ -> None"
   ]
  },
  {
   "cell_type": "code",
   "execution_count": null,
   "metadata": {},
   "outputs": [],
   "source": [
    "nth [1;2;3] 4"
   ]
  },
  {
   "cell_type": "markdown",
   "metadata": {
    "slideshow": {
     "slide_type": "slide"
    }
   },
   "source": [
    "## Nested Matching\n",
    "\n"
   ]
  },
  {
   "cell_type": "code",
   "execution_count": null,
   "metadata": {},
   "outputs": [],
   "source": [
    "type color = Red | Green | Blue\n",
    "\n",
    "type point = {x : int; y : int}\n",
    "\n",
    "type shape = \n",
    "  | Circle of point * float (* center, radius *)\n",
    "  | Rect of point * point   (* lower-left, upper-right *)\n",
    "  | ColorPoint of point * color"
   ]
  },
  {
   "cell_type": "markdown",
   "metadata": {
    "slideshow": {
     "slide_type": "slide"
    }
   },
   "source": [
    "## Nested Matching\n",
    "\n",
    "Is the first shape in a list of shapes a red point?"
   ]
  },
  {
   "cell_type": "code",
   "execution_count": null,
   "metadata": {},
   "outputs": [],
   "source": [
    "let is_hd_red_circle l = \n",
    "  match l with\n",
    "  | ColorPoint(_,Red)::_ -> true\n",
    "  | _ -> false"
   ]
  },
  {
   "cell_type": "markdown",
   "metadata": {
    "slideshow": {
     "slide_type": "slide"
    }
   },
   "source": [
    "## Nested Matching\n",
    "\n",
    "Print the coordinates if the point is green."
   ]
  },
  {
   "cell_type": "code",
   "execution_count": null,
   "metadata": {},
   "outputs": [],
   "source": [
    "let rec print_green_point l =\n",
    "  match l with\n",
    "  | [] -> ()\n",
    "  | ColorPoint({x;y}, Green)::tl -> \n",
    "      Printf.printf \"x = %d y = %d\\n%!\" x y;\n",
    "      print_green_point tl\n",
    "  | _::tl -> print_green_point tl"
   ]
  },
  {
   "cell_type": "code",
   "execution_count": null,
   "metadata": {},
   "outputs": [],
   "source": [
    "print_green_point [Rect ({x=1;y=1},{x=2;y=2});\n",
    "                   ColorPoint ({x=0;y=0}, Green);\n",
    "                   Circle ({x=1;y=3}, 5.4);\n",
    "                   ColorPoint ({x=4;y=6}, Green)]"
   ]
  },
  {
   "cell_type": "markdown",
   "metadata": {
    "slideshow": {
     "slide_type": "slide"
    }
   },
   "source": [
    "<center>\n",
    "\n",
    "<h1 style=\"text-align:center\"> Generalized Algebraic Data Types </h1>\n",
    "</center>"
   ]
  },
  {
   "cell_type": "markdown",
   "metadata": {
    "slideshow": {
     "slide_type": "slide"
    }
   },
   "source": [
    "## Simple language\n",
    "\n",
    "Consider this simple language of integers and booleans"
   ]
  },
  {
   "cell_type": "code",
   "execution_count": null,
   "metadata": {
    "slideshow": {
     "slide_type": "-"
    }
   },
   "outputs": [],
   "source": [
    "(* Try it yourself *)\n",
    "type value = \n",
    "    (* implement int and bool *)\n",
    "\n",
    "type expr =\n",
    "    (* implement val, plus, mult and ite*)"
   ]
  },
  {
   "cell_type": "markdown",
   "metadata": {
    "slideshow": {
     "slide_type": "slide"
    }
   },
   "source": [
    "### Solution"
   ]
  },
  {
   "cell_type": "code",
   "execution_count": null,
   "metadata": {},
   "outputs": [],
   "source": [
    "type value =\n",
    "  | Int of int\n",
    "  | Bool of bool\n",
    "\n",
    "type expr =\n",
    "  | Val of value\n",
    "  | Plus of expr * expr\n",
    "  | Mult of expr * expr\n",
    "  | Ite of expr * expr * expr"
   ]
  },
  {
   "cell_type": "markdown",
   "metadata": {
    "slideshow": {
     "slide_type": "slide"
    }
   },
   "source": [
    "## Evaluator for the simple language\n",
    "\n",
    "We can write a simple evaluator for this language"
   ]
  },
  {
   "cell_type": "code",
   "execution_count": null,
   "metadata": {},
   "outputs": [],
   "source": [
    "(* implement evaluator *)\n",
    "let rec eval : expr -> value = \n",
    "    fun e -> match e with\n",
    "    | (* implement *)"
   ]
  },
  {
   "cell_type": "markdown",
   "metadata": {
    "slideshow": {
     "slide_type": "slide"
    }
   },
   "source": [
    "### Solution"
   ]
  },
  {
   "cell_type": "code",
   "execution_count": null,
   "metadata": {},
   "outputs": [],
   "source": [
    "let rec eval : expr -> value =\n",
    "  fun e -> match e with\n",
    "  | Val (Int i) -> Int i\n",
    "  | Val (Bool i) -> Bool i\n",
    "  | Plus (e1, e2) ->\n",
    "    let Int i1, Int i2 = eval e1, eval e2 in\n",
    "    Int (i1 + i2)\n",
    "  | Mult (e1, e2) ->\n",
    "    let Int i1, Int i2 = eval e1, eval e2 in\n",
    "    Int (i1 * i2)\n",
    "  | Ite (p,e1,e2) ->\n",
    "    let Bool b = eval p in\n",
    "    if b then eval e1 else eval e2  "
   ]
  },
  {
   "cell_type": "markdown",
   "metadata": {
    "slideshow": {
     "slide_type": "slide"
    }
   },
   "source": [
    "## Evaluator for the simple language\n",
    "\n",
    "* The compiler warns that programs such as `true + 10` is not handled.\n",
    "  + Our evaluator gets **stuck** when it encouters such an expression."
   ]
  },
  {
   "cell_type": "code",
   "execution_count": null,
   "metadata": {},
   "outputs": [],
   "source": [
    "eval (Plus (Val (Bool true), Val (Int 10)))"
   ]
  },
  {
   "cell_type": "markdown",
   "metadata": {
    "slideshow": {
     "slide_type": "-"
    }
   },
   "source": [
    "* We need **Types**\n",
    "  + Well-typed programs do not get stuck!"
   ]
  },
  {
   "cell_type": "markdown",
   "metadata": {
    "slideshow": {
     "slide_type": "slide"
    }
   },
   "source": [
    "## Phantom types\n",
    "\n",
    "* We can add types to our values using a technique called **phantom types**"
   ]
  },
  {
   "cell_type": "code",
   "execution_count": null,
   "metadata": {},
   "outputs": [],
   "source": [
    "type 'a value =\n",
    "  | Int of int\n",
    "  | Bool of bool"
   ]
  },
  {
   "cell_type": "code",
   "execution_count": null,
   "metadata": {},
   "outputs": [],
   "source": [
    "(* try it out *)"
   ]
  },
  {
   "cell_type": "markdown",
   "metadata": {},
   "source": [
    "* Observe that `'a` only appears on the LHS.\n",
    "  + This `'a` is called a phantom type variable.\n",
    "* What is this useful for?"
   ]
  },
  {
   "cell_type": "markdown",
   "metadata": {
    "slideshow": {
     "slide_type": "slide"
    }
   },
   "source": [
    "## Typed expression language\n",
    "\n",
    "We can add types to our expression language now using phantom type"
   ]
  },
  {
   "cell_type": "code",
   "execution_count": null,
   "metadata": {},
   "outputs": [],
   "source": [
    "type 'a expr = \n",
    "    | (* implement phantom val, mult, plus, ite *)"
   ]
  },
  {
   "cell_type": "markdown",
   "metadata": {
    "slideshow": {
     "slide_type": "slide"
    }
   },
   "source": [
    "### Solution"
   ]
  },
  {
   "cell_type": "code",
   "execution_count": null,
   "metadata": {},
   "outputs": [],
   "source": [
    "type 'a expr =\n",
    "  | Val of 'a value\n",
    "  | Plus of int expr * int expr\n",
    "  | Mult of int expr * int expr\n",
    "  | Ite of bool expr * 'a expr * 'a expr"
   ]
  },
  {
   "cell_type": "markdown",
   "metadata": {
    "slideshow": {
     "slide_type": "slide"
    }
   },
   "source": [
    "## Typed expression language\n",
    "\n",
    "Assign concrete type to the phantom type variable `'a`."
   ]
  },
  {
   "cell_type": "code",
   "execution_count": null,
   "metadata": {},
   "outputs": [],
   "source": [
    "(* Quiz: What types are inferred without type annotations? *)\n",
    "let mk_int i : int expr = Val (Int i)\n",
    "let mk_bool b : bool expr = Val (Bool b)\n",
    "let plus e1 e2 : int expr = Plus (e1, e2)\n",
    "let mult e1 e2 : int expr = Mult (e1, e2)"
   ]
  },
  {
   "cell_type": "markdown",
   "metadata": {
    "slideshow": {
     "slide_type": "slide"
    }
   },
   "source": [
    "## Benefit of phantom types"
   ]
  },
  {
   "cell_type": "code",
   "execution_count": null,
   "metadata": {},
   "outputs": [],
   "source": [
    "let i = Val (Int 0);;\n",
    "let i' = mk_int 0;;\n",
    "\n",
    "let b = Val (Bool true);;\n",
    "let b' = mk_bool true;;\n",
    "\n",
    "let p = Plus (i,i);;\n",
    "let p' = plus i i;;"
   ]
  },
  {
   "cell_type": "markdown",
   "metadata": {
    "slideshow": {
     "slide_type": "slide"
    }
   },
   "source": [
    "## Benefit of phantom types\n",
    "\n",
    "We no longer allow ill-typed expression if we use the helper functions."
   ]
  },
  {
   "cell_type": "code",
   "execution_count": null,
   "metadata": {},
   "outputs": [],
   "source": [
    "plus (mk_bool true) (mk_int 10) "
   ]
  },
  {
   "cell_type": "markdown",
   "metadata": {
    "slideshow": {
     "slide_type": "slide"
    }
   },
   "source": [
    "## Typed evaluator\n",
    "\n",
    "We can write an evaluator for this language now.\n",
    "\n",
    "Let's use the same evaluator as the earlier one."
   ]
  },
  {
   "cell_type": "code",
   "execution_count": null,
   "metadata": {
    "scrolled": true
   },
   "outputs": [],
   "source": [
    "let rec eval : 'a expr -> 'a value = \n",
    "  fun e -> match e with\n",
    "  | Val (Int i) -> Int i\n",
    "  | Val (Bool i) -> Bool i\n",
    "  | Plus (e1, e2) ->\n",
    "    let Int i1, Int i2 = eval e1, eval e2 in\n",
    "    Int (i1 + i2)\n",
    "  | Mult (e1, e2) ->\n",
    "    let Int i1, Int i2 = eval e1, eval e2 in\n",
    "    Int (i1 * i2)\n",
    "  | Ite (p,e1,e2) ->\n",
    "    let Bool b = eval p in\n",
    "    if b then eval e1 else eval e2"
   ]
  },
  {
   "cell_type": "markdown",
   "metadata": {
    "slideshow": {
     "slide_type": "slide"
    }
   },
   "source": [
    "## Typed evaluator\n",
    "\n",
    "* We see a $\\color{red}{\\text{type error}}$.\n",
    "* OCaml by default expects the function expression at the recursive call position to have the same type as the outer function.\n",
    "* This need not be the case if the recursive function call is at different types.\n",
    "  + `eval (p : int expr)` and `eval (p : bool expr)`."
   ]
  },
  {
   "cell_type": "markdown",
   "metadata": {
    "slideshow": {
     "slide_type": "slide"
    }
   },
   "source": [
    "## Polymorphic recursion.\n",
    "\n",
    "* In order to allow this, OCaml supports polymorphic recursion (aka Milner-Mycroft typeability)\n",
    "  + Robin Milner co-invented type infererence + polymorphism that we use in OCaml."
   ]
  },
  {
   "cell_type": "markdown",
   "metadata": {
    "slideshow": {
     "slide_type": "slide"
    }
   },
   "source": [
    "## Fixing the interpreter with polymorphic recursion\n",
    "\n",
    "`type a` is known as **locally abstract type**."
   ]
  },
  {
   "cell_type": "code",
   "execution_count": null,
   "metadata": {},
   "outputs": [],
   "source": [
    "let rec eval : type a. a expr -> a value = \n",
    "  fun e -> match e with\n",
    "  | Val (Int i) -> Int i\n",
    "  | Val (Bool i) -> Bool i\n",
    "  | Plus (e1, e2) ->\n",
    "    let Int i1, Int i2 = eval e1, eval e2 in\n",
    "    Int (i1 + i2)\n",
    "  | Mult (e1, e2) ->\n",
    "    let Int i1, Int i2 = eval e1, eval e2 in\n",
    "    Int (i1 * i2)\n",
    "  | Ite (p,e1,e2) ->\n",
    "    let Bool b = eval p in\n",
    "    if b then eval e1 else eval e2"
   ]
  },
  {
   "cell_type": "markdown",
   "metadata": {
    "slideshow": {
     "slide_type": "slide"
    }
   },
   "source": [
    "## Errors gone, but warning remains\n",
    "\n",
    "* Compiler still warns us that there are unhandled cases in pattern matches\n",
    "* But haven't we added types to the expression language?\n",
    "* Observe that `mk_int i = Val (Int i)` is just convention.\n",
    "  + You can still write ill-typed expression by directly using the constructors."
   ]
  },
  {
   "cell_type": "markdown",
   "metadata": {
    "slideshow": {
     "slide_type": "slide"
    }
   },
   "source": [
    "## Errors gone, but warning remains"
   ]
  },
  {
   "cell_type": "code",
   "execution_count": null,
   "metadata": {
    "slideshow": {
     "slide_type": "-"
    }
   },
   "outputs": [],
   "source": [
    "eval (Plus (Val (Bool true), Val (Int 10)))"
   ]
  },
  {
   "cell_type": "markdown",
   "metadata": {},
   "source": [
    "* Here, `Bool true` is inferred to have the type `int value`.\n",
    "  + Need a way to inform the compiler that `Bool true` has type `bool value`."
   ]
  },
  {
   "cell_type": "markdown",
   "metadata": {
    "slideshow": {
     "slide_type": "slide"
    }
   },
   "source": [
    "## Generalized Algebraic Data Types\n",
    "\n",
    "GADTs allow us to **refine** the return type of the data constructor. "
   ]
  },
  {
   "cell_type": "code",
   "execution_count": null,
   "metadata": {},
   "outputs": [],
   "source": [
    "(* implement *)\n",
    "type 'a value =\n",
    "    | (* gadt int and bool *)\n",
    "\n",
    "type 'a expr =\n",
    "    | (* gadt val, plus, mult, ite *)"
   ]
  },
  {
   "cell_type": "code",
   "execution_count": null,
   "metadata": {},
   "outputs": [],
   "source": [
    "type 'a value =\n",
    "  | Int : int -> int value\n",
    "  | Bool : bool -> bool value\n",
    "  \n",
    "type 'a expr =\n",
    "  | Val : 'a value -> 'a expr\n",
    "  | Plus : int expr * int expr -> int expr\n",
    "  | Mult : int expr * int expr -> int expr\n",
    "  | Ite : bool expr * 'a expr * 'a expr -> 'a expr"
   ]
  },
  {
   "cell_type": "markdown",
   "metadata": {
    "slideshow": {
     "slide_type": "slide"
    }
   },
   "source": [
    "## Evaluator remains the same\n",
    "\n",
    "Observe that the warnings are also gone!"
   ]
  },
  {
   "cell_type": "code",
   "execution_count": null,
   "metadata": {},
   "outputs": [],
   "source": [
    "let rec eval : type a. a expr -> a value = \n",
    "  fun e -> match e with\n",
    "  | Val (Int i) -> Int i\n",
    "  | Val (Bool i) -> Bool i\n",
    "  | Plus (e1, e2) ->\n",
    "    let Int i1, Int i2 = eval e1, eval e2 in\n",
    "    Int (i1 + i2)\n",
    "  | Mult (e1, e2) ->\n",
    "    let Int i1, Int i2 = eval e1, eval e2 in\n",
    "    Int (i1 * i2)\n",
    "  | Ite (p,e1,e2) ->\n",
    "    let Bool b = eval p in\n",
    "    if b then eval e1 else eval e2"
   ]
  },
  {
   "cell_type": "markdown",
   "metadata": {
    "slideshow": {
     "slide_type": "slide"
    }
   },
   "source": [
    "## Absurd expressions are ill-typed"
   ]
  },
  {
   "cell_type": "code",
   "execution_count": null,
   "metadata": {
    "scrolled": true,
    "slideshow": {
     "slide_type": "-"
    }
   },
   "outputs": [],
   "source": [
    "eval (Plus (Val (Bool true), Val (Int 10)))"
   ]
  },
  {
   "cell_type": "markdown",
   "metadata": {
    "slideshow": {
     "slide_type": "slide"
    }
   },
   "source": [
    "## GADTs are very powerful!\n",
    "\n",
    "* Allows **refining return types** and introduce **existential types** (to be discussed).\n",
    "* Some uses\n",
    "  + Typed domain specific languages\n",
    "    * The example that we just saw...\n",
    "  + (Lightweight) dependently typed programming\n",
    "    * Enforcing **shape properties** of data structures\n",
    "  + Generic programming\n",
    "    * Implementing functions like `map` and `fold` operate on the shape of the data **once and for all**!"
   ]
  },
  {
   "cell_type": "markdown",
   "metadata": {
    "slideshow": {
     "slide_type": "slide"
    }
   },
   "source": [
    "## GADT examples\n",
    "\n",
    "* Units of measure\n",
    "* Abstract (existential) types - encoding first-class modules\n",
    "* Generic programming - encoding tuples\n",
    "* Shape properties - length-indexed lists"
   ]
  },
  {
   "cell_type": "markdown",
   "metadata": {
    "slideshow": {
     "slide_type": "slide"
    }
   },
   "source": [
    "## Units of measure\n",
    "\n",
    "* In 1999, $125 million [mars climate orbiter](https://en.wikipedia.org/wiki/Mars_Climate_Orbiter) was lost due to units of measurement error\n",
    "  + Lockheed Martin used Imperial and NASA used Metric\n",
    "  + Use GADTs to avoid such errors, but still host both units of measure in the same program"
   ]
  },
  {
   "cell_type": "markdown",
   "metadata": {
    "slideshow": {
     "slide_type": "slide"
    }
   },
   "source": [
    "## Units of measure"
   ]
  },
  {
   "cell_type": "code",
   "execution_count": null,
   "metadata": {},
   "outputs": [],
   "source": [
    "type kelvin\n",
    "type celcius\n",
    "type farenheit\n",
    "\n",
    "type _ temp = \n",
    "  | Kelvin : float -> kelvin temp\n",
    "  | Celcius : float -> celcius temp\n",
    "  | Farenheit : float -> farenheit temp "
   ]
  },
  {
   "cell_type": "markdown",
   "metadata": {
    "slideshow": {
     "slide_type": "slide"
    }
   },
   "source": [
    "## Units of measure"
   ]
  },
  {
   "cell_type": "code",
   "execution_count": null,
   "metadata": {},
   "outputs": [],
   "source": [
    "let add_temp : type a. a temp -> a temp -> a temp =\n",
    "  fun a b -> match a,b with\n",
    "  | Kelvin a, Kelvin b -> Kelvin (a+.b)\n",
    "  | Celcius a, Celcius b -> Celcius (a+.b)\n",
    "  | Farenheit a, Farenheit b -> Farenheit (a+.b)"
   ]
  },
  {
   "cell_type": "code",
   "execution_count": null,
   "metadata": {},
   "outputs": [],
   "source": [
    "add_temp (Kelvin 20.23) (Kelvin 30.5)"
   ]
  },
  {
   "cell_type": "code",
   "execution_count": null,
   "metadata": {},
   "outputs": [],
   "source": [
    "add_temp (Kelvin 20.23) (Celcius 12.3)"
   ]
  },
  {
   "cell_type": "markdown",
   "metadata": {
    "slideshow": {
     "slide_type": "slide"
    }
   },
   "source": [
    "## Length-indexed lists\n",
    "\n",
    "Some of the list function in the OCaml list library as quite unsatisfying."
   ]
  },
  {
   "cell_type": "code",
   "execution_count": null,
   "metadata": {
    "scrolled": true
   },
   "outputs": [],
   "source": [
    "List.hd []"
   ]
  },
  {
   "cell_type": "code",
   "execution_count": null,
   "metadata": {
    "scrolled": false
   },
   "outputs": [],
   "source": [
    "List.tl []"
   ]
  },
  {
   "cell_type": "markdown",
   "metadata": {
    "slideshow": {
     "slide_type": "slide"
    }
   },
   "source": [
    "## Morever, these errors caught at runtime"
   ]
  },
  {
   "cell_type": "code",
   "execution_count": null,
   "metadata": {},
   "outputs": [],
   "source": [
    "let get_head x = List.hd x"
   ]
  },
  {
   "cell_type": "code",
   "execution_count": null,
   "metadata": {},
   "outputs": [],
   "source": [
    "get_head []"
   ]
  },
  {
   "cell_type": "markdown",
   "metadata": {
    "slideshow": {
     "slide_type": "slide"
    }
   },
   "source": [
    "## Length indexed lists\n",
    "\n",
    "* Let's implement our own list type which will statically catch these errors.\n",
    "* The idea is to encode the **length** of the list in the **type** of the list.\n",
    "  + Use our encoding of church numerals from lambda calculus."
   ]
  },
  {
   "cell_type": "markdown",
   "metadata": {
    "slideshow": {
     "slide_type": "slide"
    }
   },
   "source": [
    "## Church numerals in OCaml types"
   ]
  },
  {
   "cell_type": "code",
   "execution_count": null,
   "metadata": {},
   "outputs": [],
   "source": [
    "type z = Z\n",
    "type 'n s = S : 'n -> 'n s"
   ]
  },
  {
   "cell_type": "code",
   "execution_count": null,
   "metadata": {},
   "outputs": [],
   "source": [
    "S (S Z)"
   ]
  },
  {
   "cell_type": "markdown",
   "metadata": {
    "slideshow": {
     "slide_type": "slide"
    }
   },
   "source": [
    "## Length indexed list"
   ]
  },
  {
   "cell_type": "code",
   "execution_count": null,
   "metadata": {},
   "outputs": [],
   "source": [
    "type (_,_) list =\n",
    "  | Nil  : ('a, z ) list\n",
    "  | Cons : 'a * ('a,'n) list -> ('a, 'n s) list"
   ]
  },
  {
   "cell_type": "code",
   "execution_count": null,
   "metadata": {
    "slideshow": {
     "slide_type": "fragment"
    }
   },
   "outputs": [],
   "source": [
    "Nil;;\n",
    "Cons(0,Nil);;\n",
    "Cons(0,Cons(1,Nil));;"
   ]
  },
  {
   "cell_type": "markdown",
   "metadata": {
    "slideshow": {
     "slide_type": "slide"
    }
   },
   "source": [
    "## Safe `hd` and `tl`\n",
    "\n",
    "Define the function `hd` and `tl` such that they can only be applied to non-empty lists."
   ]
  },
  {
   "cell_type": "code",
   "execution_count": null,
   "metadata": {
    "slideshow": {
     "slide_type": "fragment"
    }
   },
   "outputs": [],
   "source": [
    "let hd (l : ('a,'n s) list) : 'a = \n",
    "  let Cons (v,_) = l in\n",
    "  v"
   ]
  },
  {
   "cell_type": "code",
   "execution_count": null,
   "metadata": {},
   "outputs": [],
   "source": [
    "hd (Cons (1, Nil))"
   ]
  },
  {
   "cell_type": "code",
   "execution_count": null,
   "metadata": {},
   "outputs": [],
   "source": [
    "hd Nil"
   ]
  },
  {
   "cell_type": "markdown",
   "metadata": {
    "slideshow": {
     "slide_type": "slide"
    }
   },
   "source": [
    "## Safe `hd` and `tl`\n",
    "\n",
    "Define the function `hd` and `tl` such that they can only be applied to non-empty lists."
   ]
  },
  {
   "cell_type": "code",
   "execution_count": null,
   "metadata": {},
   "outputs": [],
   "source": [
    "let hd (l : ('a,'n s) list) : 'a = \n",
    "  let Cons (x,_) = l in\n",
    "  x"
   ]
  },
  {
   "cell_type": "markdown",
   "metadata": {
    "slideshow": {
     "slide_type": "-"
    }
   },
   "source": [
    "* Observe that OCaml does not complain about `Nil` case not handled.\n",
    "  + Does not apply since `l` is non-empty!\n",
    "  + GADTs allow the compiler to refute cases statically\n",
    "    * Generate more efficient code!"
   ]
  },
  {
   "cell_type": "markdown",
   "metadata": {
    "slideshow": {
     "slide_type": "slide"
    }
   },
   "source": [
    "## Safe `hd` and `tl`"
   ]
  },
  {
   "cell_type": "code",
   "execution_count": null,
   "metadata": {},
   "outputs": [],
   "source": [
    "let tl (l : ('a,'n s) list) : ('a, 'n) list = \n",
    "  let Cons (_,xs) = l in\n",
    "  xs"
   ]
  },
  {
   "cell_type": "code",
   "execution_count": null,
   "metadata": {},
   "outputs": [],
   "source": [
    "tl (Cons (0, Cons(1,Nil)));;\n",
    "tl (Cons (0, Nil));;"
   ]
  },
  {
   "cell_type": "markdown",
   "metadata": {
    "slideshow": {
     "slide_type": "slide"
    }
   },
   "source": [
    "## List map\n",
    "\n",
    "`map` is length preserving"
   ]
  },
  {
   "cell_type": "code",
   "execution_count": null,
   "metadata": {},
   "outputs": [],
   "source": [
    "let rec map : type n. ('a -> 'b) -> ('a, n) list -> ('b, n) list =\n",
    "  fun f l ->\n",
    "    match l with\n",
    "    | Nil -> Nil\n",
    "    | Cons (x,xs) -> Cons(f x, map f xs)"
   ]
  },
  {
   "cell_type": "markdown",
   "metadata": {
    "slideshow": {
     "slide_type": "slide"
    }
   },
   "source": [
    "## Non length-preserving map rejected"
   ]
  },
  {
   "cell_type": "code",
   "execution_count": null,
   "metadata": {},
   "outputs": [],
   "source": [
    "let rec map' : type n. 'p -> ('p -> 'q) -> ('p, n) list -> ('q, n) list =\n",
    "  fun a f l ->\n",
    "      match l with\n",
    "          | Nil -> Cons (f a, Nil)\n",
    "          | Cons (x,xs) -> Cons(f x, map' a f xs)"
   ]
  },
  {
   "cell_type": "markdown",
   "metadata": {
    "slideshow": {
     "slide_type": "slide"
    }
   },
   "source": [
    "## Trees\n",
    "\n",
    "Here is an unconstrained tree data type:"
   ]
  },
  {
   "cell_type": "code",
   "execution_count": null,
   "metadata": {},
   "outputs": [],
   "source": [
    "type 'a tree = \n",
    "  | Empty\n",
    "  | Tree of 'a tree * 'a * 'a tree"
   ]
  },
  {
   "cell_type": "code",
   "execution_count": null,
   "metadata": {},
   "outputs": [],
   "source": [
    "Tree (Empty, 1, Tree (Empty, 2, Tree (Empty, 3, Empty)));; (* Right skewed *)\n",
    "Tree (Tree (Tree (Empty, 3, Empty), 2, Empty), 1, Empty);; (* Left skewed *)\n",
    "Tree (Tree (Tree (Empty, 3, Empty), 2, Tree (Empty, 3, Empty)), \n",
    "      1, \n",
    "      Tree (Tree (Empty, 3, Empty), 2, Tree (Empty, 3, Empty))) (* Perfectly balanced tree *)"
   ]
  },
  {
   "cell_type": "markdown",
   "metadata": {
    "slideshow": {
     "slide_type": "slide"
    }
   },
   "source": [
    "## Tree operations"
   ]
  },
  {
   "cell_type": "code",
   "execution_count": null,
   "metadata": {},
   "outputs": [],
   "source": [
    "let rec depth t = match t with\n",
    "  | Empty -> 0\n",
    "  | Tree (l,_,r) -> 1 + max (depth l) (depth r)"
   ]
  },
  {
   "cell_type": "code",
   "execution_count": null,
   "metadata": {},
   "outputs": [],
   "source": [
    "let top t = match t with\n",
    "  | Empty -> None \n",
    "  | Tree (_,v,_) -> Some v"
   ]
  },
  {
   "cell_type": "markdown",
   "metadata": {},
   "source": [
    "`swivel` is mirror image of the tree"
   ]
  },
  {
   "cell_type": "code",
   "execution_count": null,
   "metadata": {},
   "outputs": [],
   "source": [
    "let rec swivel t = match t with\n",
    "  | Empty -> Empty\n",
    "  | Tree (l,v,r) -> Tree (swivel r, v, swivel l)"
   ]
  },
  {
   "cell_type": "markdown",
   "metadata": {
    "slideshow": {
     "slide_type": "slide"
    }
   },
   "source": [
    "## Perfectly balanced tree using GADTs"
   ]
  },
  {
   "cell_type": "code",
   "execution_count": null,
   "metadata": {},
   "outputs": [],
   "source": [
    "type ('a,_) gtree = \n",
    "  | EmptyG : ('a,z) gtree\n",
    "  | TreeG  : ('a,'n) gtree * 'a * ('a,'n) gtree -> ('a,'n s) gtree"
   ]
  },
  {
   "cell_type": "code",
   "execution_count": null,
   "metadata": {},
   "outputs": [],
   "source": [
    "TreeG (TreeG (TreeG (EmptyG, 3, EmptyG), 2, TreeG (EmptyG, 3, EmptyG)), \n",
    "       1, \n",
    "       TreeG (TreeG (EmptyG, 3, EmptyG), 2, TreeG (EmptyG, 3, EmptyG)))"
   ]
  },
  {
   "cell_type": "markdown",
   "metadata": {
    "slideshow": {
     "slide_type": "slide"
    }
   },
   "source": [
    "## Operations on `gtree`"
   ]
  },
  {
   "cell_type": "code",
   "execution_count": null,
   "metadata": {},
   "outputs": [],
   "source": [
    "let rec depthG : type n. ('a,n) gtree -> int =\n",
    "  fun t -> match t with\n",
    "  | EmptyG -> 0\n",
    "  | TreeG (l,_,_) -> 1 + depthG l"
   ]
  },
  {
   "cell_type": "code",
   "execution_count": null,
   "metadata": {},
   "outputs": [],
   "source": [
    "let topG : ('a, 'n s) gtree -> 'a = \n",
    "  fun t -> let TreeG(_,v,_) = t in v"
   ]
  },
  {
   "cell_type": "code",
   "execution_count": null,
   "metadata": {},
   "outputs": [],
   "source": [
    "let rec swivelG : type n.('a,n) gtree -> ('a,n) gtree = \n",
    "fun t -> match t with\n",
    "    EmptyG -> EmptyG\n",
    "  | TreeG (l,v,r) -> TreeG (swivelG r, v, swivelG l)"
   ]
  },
  {
   "cell_type": "markdown",
   "metadata": {
    "slideshow": {
     "slide_type": "slide"
    }
   },
   "source": [
    "## Zipping perfect trees"
   ]
  },
  {
   "cell_type": "code",
   "execution_count": null,
   "metadata": {},
   "outputs": [],
   "source": [
    "let rec zipTree :\n",
    "  type n.('a,n) gtree -> ('b,n) gtree -> ('a * 'b,n) gtree =\n",
    "  fun x y -> match x, y with\n",
    "      EmptyG, EmptyG -> EmptyG\n",
    "    | TreeG (l,v,r), TreeG (m,w,s) ->\n",
    "      TreeG (zipTree l m, (v,w), zipTree r s)"
   ]
  },
  {
   "cell_type": "markdown",
   "metadata": {
    "slideshow": {
     "slide_type": "slide"
    }
   },
   "source": [
    "<center>\n",
    "<h1 style=\"text-align:center\"> Thank you. </h1>\n",
    "<h3 style=\"text-align:center\"> Questions? </h3>\n",
    "\n",
    "</center>"
   ]
  }
 ],
 "metadata": {
  "celltoolbar": "Slideshow",
  "kernelspec": {
   "display_name": "OCaml 4.07.1",
   "language": "OCaml",
   "name": "ocaml-jupyter"
  },
  "language_info": {
   "codemirror_mode": "text/x-ocaml",
   "file_extension": ".ml",
   "mimetype": "text/x-ocaml",
   "name": "OCaml",
   "nbconverter_exporter": null,
   "pygments_lexer": "OCaml",
   "version": "4.07.1"
  }
 },
 "nbformat": 4,
 "nbformat_minor": 2
}
